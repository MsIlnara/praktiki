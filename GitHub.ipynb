{
  "nbformat": 4,
  "nbformat_minor": 0,
  "metadata": {
    "colab": {
      "name": "GitHub.ipynb",
      "provenance": [],
      "collapsed_sections": [],
      "authorship_tag": "ABX9TyP3dlhXF1r8ai/K/lSHWLZd",
      "include_colab_link": true
    },
    "kernelspec": {
      "name": "python3",
      "display_name": "Python 3"
    }
  },
  "cells": [
    {
      "cell_type": "markdown",
      "metadata": {
        "id": "view-in-github",
        "colab_type": "text"
      },
      "source": [
        "<a href=\"https://colab.research.google.com/github/MsIlnara/praktiki/blob/master/GitHub.ipynb\" target=\"_parent\"><img src=\"https://colab.research.google.com/assets/colab-badge.svg\" alt=\"Open In Colab\"/></a>"
      ]
    },
    {
      "cell_type": "markdown",
      "metadata": {
        "id": "VNGZOYsICHsj",
        "colab_type": "text"
      },
      "source": [
        "ДЕКОРАТОРЫ\n",
        "\n",
        "\n"
      ]
    },
    {
      "cell_type": "markdown",
      "metadata": {
        "id": "_wEXcdTXpFSp",
        "colab_type": "text"
      },
      "source": [
        "ПРИМЕР 1\n"
      ]
    },
    {
      "cell_type": "code",
      "metadata": {
        "id": "9eId4wgsVIVL",
        "colab_type": "code",
        "outputId": "56e97b92-9f37-4fc1-e675-8998697695e1",
        "colab": {
          "base_uri": "https://localhost:8080/",
          "height": 255
        }
      },
      "source": [
        "class TestClass:\n",
        "\n",
        "    def __init__(self):\n",
        "        self.public_variable = \"I'm public!\"\n",
        "        self.__private_variable = \"I'm too shy to be public!\"\n",
        "\n",
        "    def get_public_variable(self):\n",
        "        return self.public_variable\n",
        "\n",
        "    def get_private_variable(self):\n",
        "        return self.__private_variable\n",
        "\n",
        "if __name__ == \"__main__\":\n",
        "    test_class = TestClass()\n",
        "    print(\" \".join([\"Public variable:\", test_class.get_public_variable()]))\n",
        "    print(\" \".join([\"Public variable:\", test_class.public_variable]))\n",
        "\n",
        "    print(\" \".join([\"Private variable:\", test_class.get_private_variable()]))\n",
        "    print(\" \".join([\"Private variable:\", test_class._private_variable]))"
      ],
      "execution_count": 0,
      "outputs": [
        {
          "output_type": "stream",
          "text": [
            "Public variable: I'm public!\n",
            "Public variable: I'm public!\n",
            "Private variable: I'm too shy to be public!\n"
          ],
          "name": "stdout"
        },
        {
          "output_type": "error",
          "ename": "AttributeError",
          "evalue": "ignored",
          "traceback": [
            "\u001b[0;31m---------------------------------------------------------------------------\u001b[0m",
            "\u001b[0;31mAttributeError\u001b[0m                            Traceback (most recent call last)",
            "\u001b[0;32m<ipython-input-1-b54941b0f4fd>\u001b[0m in \u001b[0;36m<module>\u001b[0;34m()\u001b[0m\n\u001b[1;32m     17\u001b[0m \u001b[0;34m\u001b[0m\u001b[0m\n\u001b[1;32m     18\u001b[0m     \u001b[0mprint\u001b[0m\u001b[0;34m(\u001b[0m\u001b[0;34m\" \"\u001b[0m\u001b[0;34m.\u001b[0m\u001b[0mjoin\u001b[0m\u001b[0;34m(\u001b[0m\u001b[0;34m[\u001b[0m\u001b[0;34m\"Private variable:\"\u001b[0m\u001b[0;34m,\u001b[0m \u001b[0mtest_class\u001b[0m\u001b[0;34m.\u001b[0m\u001b[0mget_private_variable\u001b[0m\u001b[0;34m(\u001b[0m\u001b[0;34m)\u001b[0m\u001b[0;34m]\u001b[0m\u001b[0;34m)\u001b[0m\u001b[0;34m)\u001b[0m\u001b[0;34m\u001b[0m\u001b[0;34m\u001b[0m\u001b[0m\n\u001b[0;32m---> 19\u001b[0;31m     \u001b[0mprint\u001b[0m\u001b[0;34m(\u001b[0m\u001b[0;34m\" \"\u001b[0m\u001b[0;34m.\u001b[0m\u001b[0mjoin\u001b[0m\u001b[0;34m(\u001b[0m\u001b[0;34m[\u001b[0m\u001b[0;34m\"Private variable:\"\u001b[0m\u001b[0;34m,\u001b[0m \u001b[0mtest_class\u001b[0m\u001b[0;34m.\u001b[0m\u001b[0m_private_variable\u001b[0m\u001b[0;34m]\u001b[0m\u001b[0;34m)\u001b[0m\u001b[0;34m)\u001b[0m\u001b[0;34m\u001b[0m\u001b[0;34m\u001b[0m\u001b[0m\n\u001b[0m",
            "\u001b[0;31mAttributeError\u001b[0m: 'TestClass' object has no attribute '_private_variable'"
          ]
        }
      ]
    },
    {
      "cell_type": "markdown",
      "metadata": {
        "id": "wB4IwkglpPwV",
        "colab_type": "text"
      },
      "source": [
        "ПРИМЕР 2"
      ]
    },
    {
      "cell_type": "code",
      "metadata": {
        "id": "hA_fG5m3VVwI",
        "colab_type": "code",
        "colab": {}
      },
      "source": [
        "class UniversityMember:\n",
        "    passToUniversity = ''\n",
        "    status = True\n",
        "\n",
        "    def checkStatus(self):\n",
        "        return self.status\n",
        "\n",
        "    def dismiss(self):\n",
        "        self.status = False\n",
        "        self.pass_to_university = None\n",
        "\n",
        "class Student(UniversityMember):\n",
        "    group = None\n",
        "\n",
        "class Teacher(UniversityMember):\n",
        "    cathedral = None\n",
        "\n",
        "class Administrator(UniversityMember):\n",
        "    pass\n",
        "    \n",
        "class Student(UniversityMember):\n",
        "    group = None\n",
        "    passToUniversity = ''\n",
        "    status = True\n",
        "\n",
        "    def checkStatus(self):\n",
        "        return self.status\n",
        "\n",
        "    def dismiss(self):\n",
        "        self.status = False\n",
        "        self.pass_to_university = None\n",
        "\n",
        "class Teacher(UniversityMember):\n",
        "    cathedral = None\n",
        "    passToUniversity = ''\n",
        "    status = True\n",
        "\n",
        "    def checkStatus(self):\n",
        "        return self.status\n",
        "\n",
        "    def dismiss(self):\n",
        "        self.status = False\n",
        "        self.pass_to_university = None\n",
        "\n",
        "class Administrator(UniversityMember):\n",
        "    passToUniversity = ''\n",
        "    status = True\n",
        "\n",
        "    def checkStatus(self):\n",
        "        return self.status\n",
        "\n",
        "    def dismiss(self):\n",
        "        self.status = False\n",
        "        self.pass_to_university = None\n",
        "\n",
        "\n"
      ],
      "execution_count": 0,
      "outputs": []
    },
    {
      "cell_type": "code",
      "metadata": {
        "id": "6D_tbCv5ViKc",
        "colab_type": "code",
        "outputId": "5f505f9b-055d-4972-fceb-3c4e6dd7d6bf",
        "colab": {
          "base_uri": "https://localhost:8080/",
          "height": 52
        }
      },
      "source": [
        "# coding=UTF-8\n",
        ">>> from decimal import Decimal\n",
        ">>>\n",
        ">>> a = Decimal(1.2)\n",
        ">>> print(a) # В этом случае вызовется __str__(self)\n",
        "1.2\n",
        ">>> a # А в этом __repr__(self)\n",
        "Decimal('1.2')\n",
        ">>>"
      ],
      "execution_count": 0,
      "outputs": [
        {
          "output_type": "stream",
          "text": [
            "1.1999999999999999555910790149937383830547332763671875\n"
          ],
          "name": "stdout"
        },
        {
          "output_type": "execute_result",
          "data": {
            "text/plain": [
              "Decimal('1.2')"
            ]
          },
          "metadata": {
            "tags": []
          },
          "execution_count": 3
        }
      ]
    },
    {
      "cell_type": "code",
      "metadata": {
        "id": "eWaHMk0elWA-",
        "colab_type": "code",
        "outputId": "ee91be90-4500-47b0-c23e-d5de9adea446",
        "colab": {
          "base_uri": "https://localhost:8080/",
          "height": 70
        }
      },
      "source": [
        "import datetime as dt\n",
        "class Person:\n",
        "    def __init__(self, name, age):\n",
        "        self.name = name\n",
        "        self.age = age\n",
        "\n",
        "    # classmethod чтобы создать объект по году рождения,\n",
        "    # \"альтернативный\" конструктор\n",
        "    @classmethod\n",
        "    def fromBirthYear(cls, name, year):\n",
        "        return cls(name, dt.date.today().year-year)\n",
        "\n",
        "    # статический метод,чтобы проверить совершеннолетие\n",
        "    @staticmethod\n",
        "    def isAdult(age):\n",
        "        return age > 18\n",
        "\n",
        "person1 = Person('Петя', 21)\n",
        "person2 = Person.fromBirthYear('Петя', 1996)\n",
        "\n",
        "print (person1.age)\n",
        "print (person2.age)\n",
        "\n",
        "# print the result\n",
        "print (Person.isAdult(22))"
      ],
      "execution_count": 39,
      "outputs": [
        {
          "output_type": "stream",
          "text": [
            "21\n",
            "24\n",
            "True\n"
          ],
          "name": "stdout"
        }
      ]
    },
    {
      "cell_type": "markdown",
      "metadata": {
        "id": "qwclT4loFiHa",
        "colab_type": "text"
      },
      "source": [
        "УПР 1\n"
      ]
    },
    {
      "cell_type": "code",
      "metadata": {
        "id": "QQbvWT6GFkl1",
        "colab_type": "code",
        "colab": {
          "base_uri": "https://localhost:8080/",
          "height": 34
        },
        "outputId": "29b91709-476e-4ce9-8523-bc713ccd9b53"
      },
      "source": [
        "def decor(dec):\n",
        "  def result(nums):\n",
        "    c=dec(nums)\n",
        "    if c>9:\n",
        "      print(\"Очень много \")\n",
        "    elif c==0:\n",
        "      print(\"Нету :(\")\n",
        "    else:\n",
        "      print(c)\n",
        "  return result\n",
        "@decor\n",
        "def count_even(nums):\n",
        "  res=0\n",
        "  for i in nums:\n",
        "    if i%2==0:\n",
        "      res+=1\n",
        "  return res\n",
        "count_even([2,2,2,2,2,2,2,2,2,2,2])"
      ],
      "execution_count": 35,
      "outputs": [
        {
          "output_type": "stream",
          "text": [
            "Очень много \n"
          ],
          "name": "stdout"
        }
      ]
    },
    {
      "cell_type": "markdown",
      "metadata": {
        "id": "r1VcFddh3YvZ",
        "colab_type": "text"
      },
      "source": [
        "УПР 2"
      ]
    },
    {
      "cell_type": "code",
      "metadata": {
        "id": "K6_DRXIplkve",
        "colab_type": "code",
        "outputId": "f6588dba-5075-415d-dcfa-83ed925fd206",
        "colab": {
          "base_uri": "https://localhost:8080/",
          "height": 34
        }
      },
      "source": [
        "def dec_method(method_dec):\n",
        "  def FOO(self,other):\n",
        "    og3=method_dec(self, other)\n",
        "    print (f'({self.x},{self.y})+({other.x},{other.y})=({og3.x},{og3.y})')\n",
        "  return FOO\n",
        "\n",
        "class Vector:\n",
        "  def __init__(self,x=0,y=0):\n",
        "    self.x=x\n",
        "    self.y=y\n",
        "\n",
        "  @dec_method\n",
        "  def __add__(self,other):\n",
        "    return Vector(self.x+other.x, self.y+other.y)\n",
        "\n",
        "og1=Vector(10,-1)\n",
        "og2=Vector(4,-2)\n",
        "og3=og1+og2"
      ],
      "execution_count": 0,
      "outputs": [
        {
          "output_type": "stream",
          "text": [
            "(10,-1)+(4,-2)=(14,-3)\n"
          ],
          "name": "stdout"
        }
      ]
    },
    {
      "cell_type": "code",
      "metadata": {
        "id": "cdYieOzZ4jhH",
        "colab_type": "code",
        "colab": {}
      },
      "source": [
        ""
      ],
      "execution_count": 0,
      "outputs": []
    }
  ]
}