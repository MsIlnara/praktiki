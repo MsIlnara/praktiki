{
  "nbformat": 4,
  "nbformat_minor": 0,
  "metadata": {
    "colab": {
      "name": "praktika za 20 marta.ipynb",
      "provenance": [],
      "authorship_tag": "ABX9TyO/814NepJjtMZwbYNf7XvO",
      "include_colab_link": true
    },
    "kernelspec": {
      "name": "python3",
      "display_name": "Python 3"
    }
  },
  "cells": [
    {
      "cell_type": "markdown",
      "metadata": {
        "id": "view-in-github",
        "colab_type": "text"
      },
      "source": [
        "<a href=\"https://colab.research.google.com/github/MsIlnara/praktiki/blob/master/praktika_za_20_marta.ipynb\" target=\"_parent\"><img src=\"https://colab.research.google.com/assets/colab-badge.svg\" alt=\"Open In Colab\"/></a>"
      ]
    },
    {
      "cell_type": "code",
      "metadata": {
        "id": "Sj0msn_7q3Z5",
        "colab_type": "code",
        "outputId": "b9fe893e-4d52-4944-ec81-7b57f2956bab",
        "colab": {
          "base_uri": "https://localhost:8080/",
          "height": 52
        }
      },
      "source": [
        "class T1:\n",
        "  n=10\n",
        "  def total(self,N):\n",
        "    self.total = int(self.n) + int(N)\n",
        "\n",
        "class T2:\n",
        "  def total (self,s):\n",
        "    self.total = len(str(s))\n",
        "\n",
        "t1=T1()\n",
        "t2=T2()\n",
        "t1.total(45)\n",
        "t2.total(45)\n",
        "print(t1.total)\n",
        "print(t2.total)"
      ],
      "execution_count": 0,
      "outputs": [
        {
          "output_type": "stream",
          "text": [
            "55\n",
            "2\n"
          ],
          "name": "stdout"
        }
      ]
    },
    {
      "cell_type": "code",
      "metadata": {
        "id": "z-w6Vh8jrkF4",
        "colab_type": "code",
        "outputId": "545c267b-0453-47e0-aab0-7d1daf1e45bc",
        "colab": {
          "base_uri": "https://localhost:8080/",
          "height": 52
        }
      },
      "source": [
        "class One:\n",
        "  def __init__ (self,a):\n",
        "    self.a = a**2\n",
        "\n",
        "class Two:\n",
        "  def __init__ (self,a):\n",
        "    self.a=a*2\n",
        "\n",
        "a=input (\"введите число \")\n",
        "a = int (a)\n",
        "if -100<a<100:\n",
        "  obj = One(a)\n",
        "else:\n",
        "  obj= Two(a)\n",
        "\n",
        "print(obj.a)"
      ],
      "execution_count": 0,
      "outputs": [
        {
          "output_type": "stream",
          "text": [
            "введите число 101\n",
            "202\n"
          ],
          "name": "stdout"
        }
      ]
    },
    {
      "cell_type": "code",
      "metadata": {
        "id": "IcWpuyk85_us",
        "colab_type": "code",
        "outputId": "6229168d-7b5b-4f84-dce6-16eafcccd30d",
        "colab": {
          "base_uri": "https://localhost:8080/",
          "height": 87
        }
      },
      "source": [
        "class Base:\n",
        "  def __init__ (self,n):\n",
        "    self.numb = n\n",
        "  def out(self):\n",
        "    print(self.numb)\n",
        "\n",
        "class One (Base):\n",
        "  def multi(self,m):\n",
        "    self.numb=m\n",
        "\n",
        "class Two(Base):\n",
        "  def inlist(self):\n",
        "    self.inlist = list(str(self.numb))\n",
        "  def out(self):\n",
        "    i=0\n",
        "    while i<len(self.inlist):\n",
        "      print (self.inlist[i])\n",
        "      i+=1\n",
        "\n",
        "obj1=One(45)\n",
        "obj2 = Two('abc')\n",
        "\n",
        "obj1.multi(2)\n",
        "obj1.out()\n",
        "\n",
        "obj2.inlist()\n",
        "obj2.out()"
      ],
      "execution_count": 0,
      "outputs": [
        {
          "output_type": "stream",
          "text": [
            "2\n",
            "a\n",
            "b\n",
            "c\n"
          ],
          "name": "stdout"
        }
      ]
    },
    {
      "cell_type": "code",
      "metadata": {
        "id": "cCg6dGYj-pw3",
        "colab_type": "code",
        "outputId": "50c29ad1-bcc9-4735-d8ba-1914a3fe0188",
        "colab": {
          "base_uri": "https://localhost:8080/",
          "height": 193
        }
      },
      "source": [
        "class Base:\n",
        "  def __init__ (self,N):\n",
        "    self.numb = N\n",
        "  def out(self):\n",
        "    self.numb /=2\n",
        "    print(self.numb)\n",
        "\n",
        "class Subclass(Base):\n",
        "  def out(self):\n",
        "    print (\"\\n----\")\n",
        "    Base.out(self)\n",
        "    print(\"----\\n\")\n",
        "\n",
        "i=0\n",
        "while i<10:\n",
        "  if a<i<7:\n",
        "    obj=Subclass(i)\n",
        "  else:\n",
        "    obj=Base(i)\n",
        "  i+=1\n",
        "  obj.out()"
      ],
      "execution_count": 0,
      "outputs": [
        {
          "output_type": "stream",
          "text": [
            "0.0\n",
            "0.5\n",
            "1.0\n",
            "1.5\n",
            "2.0\n",
            "2.5\n",
            "3.0\n",
            "3.5\n",
            "4.0\n",
            "4.5\n"
          ],
          "name": "stdout"
        }
      ]
    },
    {
      "cell_type": "code",
      "metadata": {
        "id": "cul4vMqiTz74",
        "colab_type": "code",
        "outputId": "dc149abb-feb5-4c99-a377-b59b0a25c6f8",
        "colab": {
          "base_uri": "https://localhost:8080/",
          "height": 85
        }
      },
      "source": [
        "class FinE:\n",
        "  def __init__(self):\n",
        "    self.subject = \"ЕГЭ по английскому языку\"\n",
        "    self.sumoftrue = 38\n",
        "    self.sost = \"Сдал\"\n",
        "\n",
        "class Exam(FinE):\n",
        "  def __init__(self):\n",
        "    FinE.__init__(self)\n",
        "    self.subject = \"Экзамент\"\n",
        "    self.numT = \"50\"\n",
        "    \n",
        "\n",
        "class Test(Exam):\n",
        "  def __init__(self):\n",
        "    Exam.__init__(self)\n",
        "    self.subject = \"Еженедельный тест по английскому\"    \n",
        "    self.lvlofcompl = \"Тяжелый\"\n",
        "  \n",
        "class Ispitanie(Exam):\n",
        "  def __init__(self):\n",
        "    Exam.__init__(self)\n",
        "    self.subject = \"Вступительное испытание по англ. яз\" \n",
        "    self.perehod = \"Перешел в новый класс\"\n",
        "   \n",
        "\n",
        "\n",
        "t1 = FinE()\n",
        "print(\"Предмет: \",t1.subject, \"; Количество нправильных номеров: \",t1.sumoftrue,\"; Сдал/не сдал: \", t1.sost)\n",
        "t2=Exam()\n",
        "print(\"Предмет: \",t2.subject,\";  Количество номеров: \",t2.numT ,\";  Количество верных номеров:  \",t2.sumoftrue,\";  Сдал/Не сдал:  \", t2.sost)\n",
        "t3= Test()\n",
        "print(\"Предмет: \", t3.subject, \"; Количество номеров: \",t3.numT, \"; Количество верных номеров: \",t3.sumoftrue, \"; Сдал/не сдал: \",t3.sost, \"; Уровень сложности: \",t3.lvlofcompl )\n",
        "t4 = Ispitanie()\n",
        "print(\"Предмет: \",t4.subject,\";  Количество номеров: \",t4.numT ,\";  Количество верных номеров:  \",t4.sumoftrue,\";  Сдал/Не сдал:  \", t4.sost, \"; Результат: \",t4.perehod)\n"
      ],
      "execution_count": 5,
      "outputs": [
        {
          "output_type": "stream",
          "text": [
            "Предмет:  ЕГЭ по английскому языку ; Количество нправильных номеров:  38 ; Сдал/не сдал:  Сдал\n",
            "Предмет:  Экзамент ;  Количество номеров:  50 ;  Количество верных номеров:   38 ;  Сдал/Не сдал:   Сдал\n",
            "Предмет:  Еженедельный тест по английскому ; Количество номеров:  50 ; Количество верных номеров:  38 ; Сдал/не сдал:  Сдал ; Уровень сложности:  Тяжелый\n",
            "Предмет:  Вступительное испытание по англ. яз ;  Количество номеров:  50 ;  Количество верных номеров:   38 ;  Сдал/Не сдал:   Сдал ; Результат:  Перешел в новый класс\n"
          ],
          "name": "stdout"
        }
      ]
    },
    {
      "cell_type": "code",
      "metadata": {
        "id": "4ODdTg7WzbYA",
        "colab_type": "code",
        "colab": {}
      },
      "source": [
        ""
      ],
      "execution_count": 0,
      "outputs": []
    }
  ]
}